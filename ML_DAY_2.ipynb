{
  "nbformat": 4,
  "nbformat_minor": 0,
  "metadata": {
    "colab": {
      "provenance": []
    },
    "kernelspec": {
      "name": "python3",
      "display_name": "Python 3"
    },
    "language_info": {
      "name": "python"
    }
  },
  "cells": [
    {
      "cell_type": "code",
      "execution_count": null,
      "metadata": {
        "colab": {
          "base_uri": "https://localhost:8080/"
        },
        "id": "WBAgvCnxpRIK",
        "outputId": "a0dfb083-25d8-4623-c9be-edf304c90eab"
      },
      "outputs": [
        {
          "output_type": "stream",
          "name": "stdout",
          "text": [
            "Day-1\n"
          ]
        }
      ],
      "source": [
        "print(\"Day-1\")"
      ]
    },
    {
      "cell_type": "code",
      "source": [
        "# list intro\n",
        "li = [1,2,3]\n",
        "print(li)"
      ],
      "metadata": {
        "id": "OBEMnvXkrBQ3",
        "outputId": "6d53bd5d-61ee-4b62-84e1-82c8c22938a1",
        "colab": {
          "base_uri": "https://localhost:8080/"
        }
      },
      "execution_count": 2,
      "outputs": [
        {
          "output_type": "stream",
          "name": "stdout",
          "text": [
            "[1, 2, 3]\n"
          ]
        }
      ]
    },
    {
      "cell_type": "code",
      "source": [
        "print(type(li)) # to get the datatype for li"
      ],
      "metadata": {
        "id": "OTl87LCnsdkT",
        "outputId": "d161d4c0-bfbf-47d6-e533-5e83ce9dd058",
        "colab": {
          "base_uri": "https://localhost:8080/"
        }
      },
      "execution_count": 3,
      "outputs": [
        {
          "output_type": "stream",
          "name": "stdout",
          "text": [
            "<class 'list'>\n"
          ]
        }
      ]
    },
    {
      "cell_type": "code",
      "source": [
        "li2 = [10,1.1,\"NTT Data\", \"Self\"] #list for hetrogeneous\n",
        "print(li2)\n",
        "print(len(li2)) # to know the length for function"
      ],
      "metadata": {
        "id": "XCXlzGcwtHh4",
        "outputId": "a0251028-0a53-4ace-c723-e77d7b8b3c35",
        "colab": {
          "base_uri": "https://localhost:8080/"
        }
      },
      "execution_count": 9,
      "outputs": [
        {
          "output_type": "stream",
          "name": "stdout",
          "text": [
            "[10, 1.1, 'NTT Data', 'Self']\n",
            "4\n"
          ]
        }
      ]
    },
    {
      "cell_type": "code",
      "source": [
        "#List creation using constrctor list()\n",
        "\n",
        "l3 = list((1,2,3.33))\n",
        "print(l3)\n",
        "print(type(l3))"
      ],
      "metadata": {
        "id": "EkVExh5FtVVW",
        "outputId": "cafda3d1-79c2-4489-87b6-c9438fed7dff",
        "colab": {
          "base_uri": "https://localhost:8080/"
        }
      },
      "execution_count": 12,
      "outputs": [
        {
          "output_type": "stream",
          "name": "stdout",
          "text": [
            "[1, 2, 3.33]\n",
            "<class 'list'>\n"
          ]
        }
      ]
    },
    {
      "cell_type": "code",
      "source": [
        "l4=[1, 2, 3, 4, 5.5, 6.6, \"NTT\"]\n",
        "#Positive indexing\n",
        "print(l4[0])\n",
        "print(l4[3])\n",
        "print(l4[5])\n",
        "print(l4[6])\n",
        "\n",
        "#Negative Indexing\n",
        "print(l4[-1])\n",
        "print(l4[-2])\n",
        "print(l4[-5])\n",
        "print(l4[-6])\n"
      ],
      "metadata": {
        "id": "YXklIL2PuVp8",
        "outputId": "562fe0f5-9edd-4858-9175-fef9f4609ba9",
        "colab": {
          "base_uri": "https://localhost:8080/"
        }
      },
      "execution_count": 17,
      "outputs": [
        {
          "output_type": "stream",
          "name": "stdout",
          "text": [
            "1\n",
            "4\n",
            "6.6\n",
            "NTT\n",
            "NTT\n",
            "6.6\n",
            "3\n",
            "2\n"
          ]
        }
      ]
    },
    {
      "cell_type": "code",
      "source": [
        "#range of positive index\n",
        "lr = [1,2,3,4,5,6,7,8,9]\n",
        "print(lr)\n",
        "print(lr[2])\n",
        "print(lr[0:7]) #7 element is 8 and it's execluded\n",
        "print(lr[2:6])\n",
        "print(lr[3:4])"
      ],
      "metadata": {
        "id": "lp56TEFUxnLW",
        "outputId": "b193ae3e-d6b4-4d98-c5ab-e0a49ea19b28",
        "colab": {
          "base_uri": "https://localhost:8080/"
        }
      },
      "execution_count": 19,
      "outputs": [
        {
          "output_type": "stream",
          "name": "stdout",
          "text": [
            "[1, 2, 3, 4, 5, 6, 7, 8, 9]\n",
            "3\n",
            "[1, 2, 3, 4, 5, 6, 7]\n",
            "[3, 4, 5, 6]\n",
            "[4]\n"
          ]
        }
      ]
    },
    {
      "cell_type": "code",
      "source": [
        "#range of negative index\n",
        "lr = [1,2,3,4,5,6,7,8,9]\n",
        "print(lr[-5:-1]) #-1 element will execluded\n",
        "print(lr[2:6])\n",
        "print(lr[3:4])"
      ],
      "metadata": {
        "id": "iyb1gJPxyTHI",
        "outputId": "7cd00cdb-0901-4978-be4d-ed63d0c49f4f",
        "colab": {
          "base_uri": "https://localhost:8080/"
        }
      },
      "execution_count": 20,
      "outputs": [
        {
          "output_type": "stream",
          "name": "stdout",
          "text": [
            "[5, 6, 7, 8]\n",
            "[3, 4, 5, 6]\n",
            "[4]\n"
          ]
        }
      ]
    },
    {
      "cell_type": "code",
      "source": [
        "# range 3 parameters\n",
        "\n",
        "l = [1,2,3,4,5,6,7,8,9]\n",
        "print(l[0:8:1])\n",
        "print(l[0:8:2])\n",
        "print(l[0:8:3])"
      ],
      "metadata": {
        "id": "K5kAcz8p1DAp",
        "outputId": "b781a80f-040f-4c11-8e10-26d2251a36fd",
        "colab": {
          "base_uri": "https://localhost:8080/"
        }
      },
      "execution_count": 21,
      "outputs": [
        {
          "output_type": "stream",
          "name": "stdout",
          "text": [
            "[1, 2, 3, 4, 5, 6, 7, 8]\n",
            "[1, 3, 5, 7]\n",
            "[1, 4, 7]\n"
          ]
        }
      ]
    },
    {
      "cell_type": "code",
      "source": [
        "# optional range parameters\n",
        "\n",
        "l = [1,2,3,4,5,6,7,8,9]\n",
        "print(l[:6:1])\n",
        "print(l[2::1])\n",
        "print(l[::])"
      ],
      "metadata": {
        "id": "iEwO2Dir10Wx",
        "outputId": "44fe8bcd-6048-462e-93b0-6ff27c8188cb",
        "colab": {
          "base_uri": "https://localhost:8080/"
        }
      },
      "execution_count": 23,
      "outputs": [
        {
          "output_type": "stream",
          "name": "stdout",
          "text": [
            "[1, 2, 3, 4, 5, 6]\n",
            "[3, 4, 5, 6, 7, 8, 9]\n",
            "[1, 2, 3, 4, 5, 6, 7, 8, 9]\n"
          ]
        }
      ]
    },
    {
      "cell_type": "code",
      "source": [
        "# optional range parameters\n",
        "\n",
        "l = [1,2,3,4,5,6,7,8,9]\n",
        "l[2]=20\n",
        "print(l)\n",
        "l[1:3]=[200,\"test\"]\n",
        "print(l)"
      ],
      "metadata": {
        "id": "PlRw8KLE3eAQ",
        "outputId": "74bc3653-94de-40b9-a53b-bac0a7b82b8e",
        "colab": {
          "base_uri": "https://localhost:8080/"
        }
      },
      "execution_count": 27,
      "outputs": [
        {
          "output_type": "stream",
          "name": "stdout",
          "text": [
            "[1, 2, 20, 4, 5, 6, 7, 8, 9]\n",
            "[1, 200, 'test', 4, 5, 6, 7, 8, 9]\n"
          ]
        }
      ]
    },
    {
      "cell_type": "code",
      "source": [
        "l = [1,2,3,4,5,6,7,8,9]\n",
        "print(l[5:1:-1])"
      ],
      "metadata": {
        "id": "DOsmdL9K4jd1",
        "outputId": "da31a3f6-0757-4398-a9fe-621be422d022",
        "colab": {
          "base_uri": "https://localhost:8080/"
        }
      },
      "execution_count": 29,
      "outputs": [
        {
          "output_type": "stream",
          "name": "stdout",
          "text": [
            "[6, 5, 4, 3]\n"
          ]
        }
      ]
    },
    {
      "cell_type": "code",
      "source": [
        "l = [1,2,3,4,5,6,7,8,9]  #adding a element in list\n",
        "print(l)\n",
        "l.append(10)\n",
        "print(l)\n",
        "l.insert(2,22)\n",
        "print(l)\n"
      ],
      "metadata": {
        "id": "3Pm8NzpI6z-r",
        "outputId": "85043828-b2cf-4ae3-9b2a-549f35e135e6",
        "colab": {
          "base_uri": "https://localhost:8080/"
        }
      },
      "execution_count": 33,
      "outputs": [
        {
          "output_type": "stream",
          "name": "stdout",
          "text": [
            "[1, 2, 3, 4, 5, 6, 7, 8, 9]\n",
            "[1, 2, 3, 4, 5, 6, 7, 8, 9, 10]\n",
            "[1, 2, 22, 3, 4, 5, 6, 7, 8, 9, 10]\n"
          ]
        }
      ]
    },
    {
      "cell_type": "code",
      "source": [
        "l1=[1,2,3]\n",
        "l2=[4,5,6]\n",
        "l1.extend(l2)\n",
        "print(l1)\n",
        "l1.remove(2)\n",
        "print(l1)\n",
        "l1.pop()\n",
        "print(l1)\n"
      ],
      "metadata": {
        "id": "Ux3V2qjO9do4",
        "outputId": "d7641874-18a6-4756-bd78-23ea9024b6e8",
        "colab": {
          "base_uri": "https://localhost:8080/"
        }
      },
      "execution_count": 39,
      "outputs": [
        {
          "output_type": "stream",
          "name": "stdout",
          "text": [
            "[1, 2, 3, 4, 5, 6]\n",
            "[1, 3, 4, 5, 6]\n",
            "[1, 3, 4, 5]\n"
          ]
        }
      ]
    },
    {
      "cell_type": "code",
      "source": [
        "l1=[1,2,3]\n",
        "l2=[4,5,6]\n",
        "del l2  #to delete the complete list\n",
        "del l1[1]\n",
        "print(l1) #to delete the specific index\n",
        "l1.clear()\n",
        "print(l1) #to clear the list"
      ],
      "metadata": {
        "id": "PVXQjeyf_lhh",
        "outputId": "c21e9500-8826-4277-d4cc-318dd68569db",
        "colab": {
          "base_uri": "https://localhost:8080/"
        }
      },
      "execution_count": 41,
      "outputs": [
        {
          "output_type": "stream",
          "name": "stdout",
          "text": [
            "[1, 3]\n",
            "[]\n"
          ]
        }
      ]
    },
    {
      "cell_type": "code",
      "source": [
        "l = [1,2,3,4,5,6,7,8,9]  #example for foor loop\n",
        "for i in l:\n",
        "    print(i)"
      ],
      "metadata": {
        "id": "YGF2NSYrAUdW",
        "outputId": "c9c1ca52-48db-4e55-d928-56fead05e965",
        "colab": {
          "base_uri": "https://localhost:8080/"
        }
      },
      "execution_count": 44,
      "outputs": [
        {
          "output_type": "stream",
          "name": "stdout",
          "text": [
            "1\n",
            "2\n",
            "3\n",
            "4\n",
            "5\n",
            "6\n",
            "7\n",
            "8\n",
            "9\n"
          ]
        }
      ]
    }
  ]
}