{
  "nbformat": 4,
  "nbformat_minor": 0,
  "metadata": {
    "colab": {
      "provenance": []
    },
    "kernelspec": {
      "name": "python3",
      "display_name": "Python 3"
    },
    "language_info": {
      "name": "python"
    }
  },
  "cells": [
    {
      "cell_type": "code",
      "execution_count": null,
      "metadata": {
        "id": "yFnxUOoJ3K8w"
      },
      "outputs": [],
      "source": [
        "import matplotlib.pylab as plt"
      ]
    },
    {
      "cell_type": "code",
      "source": [
        "#Multiple points\n",
        "xpoints = [1,2,3,4,5]\n",
        "ypoints = [10,20,30,40,50]\n",
        "plt.plot(xpoints,ypoints)  #draw a line\n",
        "plt.show()"
      ],
      "metadata": {
        "id": "Xo3rzR38oZYF"
      },
      "execution_count": null,
      "outputs": []
    },
    {
      "cell_type": "code",
      "source": [
        "#Two POints\n",
        "xpoints = [0,6]  # x axis and Y axis points will be taken.\n",
        "ypoints = [0,250]\n",
        "plt.plot(xpoints,ypoints)  #draw a line\n",
        "plt.show()"
      ],
      "metadata": {
        "id": "sW3WfaQYo96d"
      },
      "execution_count": null,
      "outputs": []
    },
    {
      "cell_type": "code",
      "source": [
        "#default x points\n",
        "\n",
        "ypoints = [1,2,3,4,5]\n",
        "plt.plot(ypoints)  #draw a line, Provided only xpoints automatically yaxis will be the same.\n",
        "plt.show()"
      ],
      "metadata": {
        "id": "eeFKjxr_rF5Z"
      },
      "execution_count": null,
      "outputs": []
    },
    {
      "cell_type": "code",
      "source": [
        "# Plot ( x axis, Y axis, format (marker| line| color), )\n",
        "  # marker = o x or any\n",
        "  # line - solid, dotted, dashed, dashed dot\n",
        "  # color ='g' for Green, 'b' for blue and etc.,\n",
        "  # ms -  Marker size\n",
        "  # mfc - marker face color\n",
        "\n",
        "# format strings fmt  marker|line|color\n",
        "\n",
        "ypoints = [1,2,3,4,5]\n",
        "plt.plot(ypoints, marker = \"o\",ms = 15, color='r', mfc='b')\n",
        "plt.show()"
      ],
      "metadata": {
        "id": "0F5lxSAfpVel"
      },
      "execution_count": null,
      "outputs": []
    },
    {
      "cell_type": "code",
      "source": [
        "\"\"\" '-' solid line\n",
        "':' dotted line\n",
        "'--' dashed line\n",
        "'-.' dashed dot line\n",
        "\"\"\"\n",
        "\n",
        "ypoints = [1,2,3,4,5]\n",
        "plt.plot(ypoints, 'o-.r',linewidth='2.5')\n",
        "plt.show()"
      ],
      "metadata": {
        "id": "Gwza1EBhtLz3"
      },
      "execution_count": null,
      "outputs": []
    },
    {
      "cell_type": "code",
      "source": [
        "# multiple lines\n",
        "\n",
        "x1points = [1,2,3,4,5]\n",
        "y1points = [10,20,30,90,50]\n",
        "\n",
        "\n",
        "x2points = [1,2,3,4,5]\n",
        "y2points = [17,27,37,67,87]\n",
        "\n",
        "plt.plot(x1points,y1points)\n",
        "plt.plot(x2points,y2points)\n",
        "plt.show()\n",
        "\n"
      ],
      "metadata": {
        "id": "lft6W8Dtuuhl"
      },
      "execution_count": null,
      "outputs": []
    },
    {
      "cell_type": "code",
      "source": [
        "# multiple lines\n",
        "\n",
        "x1points = [1,2,3,4,5]\n",
        "y1points = [10,20,30,90,88]\n",
        "\n",
        "\n",
        "x2points = [1,2,3,4,5]\n",
        "y2points = [17,27,37,67,87]\n",
        "\n",
        "plt.plot(x1points,y1points,x2points,y2points)\n",
        "plt.show()"
      ],
      "metadata": {
        "id": "vB6vXjshvvzC"
      },
      "execution_count": null,
      "outputs": []
    },
    {
      "cell_type": "code",
      "source": [
        "#title and label\n",
        "# multiple lines\n",
        "\n",
        "xpoints = [1,2,3,4,5]\n",
        "ypoints = [10,20,30,90,50]\n",
        "plt.plot(xpoints,ypoints)\n",
        "plt.xlabel('Day')\n",
        "plt.ylabel('Sale')\n",
        "plt.title('Sales Per Day')\n",
        "plt.show()\n"
      ],
      "metadata": {
        "id": "yxz8BIOrxflB"
      },
      "execution_count": null,
      "outputs": []
    },
    {
      "cell_type": "code",
      "source": [
        "# set font properties for title and Label\n",
        "# loc means location, 3 values are right, left, center\n",
        "import datetime\n",
        "\n",
        "\n",
        "current_date= datetime.date.today()\n",
        "xpoints=[current_date]\n",
        "for i in range(1, 5):\n",
        "    next_date = current_date - datetime.timedelta(days=i)\n",
        "    print(next_date)\n",
        "    xpoints.append(next_date)\n",
        "\n",
        "#xpoints = [1,2,3,4,5]\n",
        "ypoints = [10,20,30,90,50]\n",
        "plt.plot(xpoints,ypoints)\n",
        "\n",
        "font1 = {'family':'serif','color':'blue','size':20}\n",
        "font2 = {'family':'serif','color':'darkred','size':15}\n",
        "\n",
        "plt.title(\"Sales Per Day\", fontdict = font1,loc = 'left')\n",
        "plt.xlabel('Day',fontdict=font2)\n",
        "plt.ylabel('Sale',fontdict=font2)\n",
        "\n",
        "plt.show()\n"
      ],
      "metadata": {
        "id": "6GgHufI6yCXG"
      },
      "execution_count": null,
      "outputs": []
    },
    {
      "cell_type": "code",
      "source": [
        "# Grid\n",
        "\n",
        "xpoints = [1,2,3,4,5]\n",
        "ypoints = [10,20,30,90,50]\n",
        "plt.plot(xpoints,ypoints)\n",
        "\n",
        "font1 = {'family':'serif','color':'blue','size':20}\n",
        "font2 = {'family':'serif','color':'darkred','size':15}\n",
        "\n",
        "plt.title(\"Sales Per Day\", fontdict = font1,loc = 'left')\n",
        "plt.xlabel('Day',fontdict=font2)\n",
        "plt.ylabel('Sale',fontdict=font2)\n",
        "#plt.grid()\n",
        "\n",
        "plt.grid(axis='y',linestyle='--',color='r')\n",
        "\n",
        "plt.show()"
      ],
      "metadata": {
        "id": "Sa5yGi7o2bXr"
      },
      "execution_count": null,
      "outputs": []
    },
    {
      "cell_type": "code",
      "source": [
        "# subplots 1st\n",
        "\n",
        "x1points = [1,2,3,4,5]\n",
        "y1points = [10,20,30,90,50]\n",
        "\n",
        "#plot 1\n",
        "plt.subplot(1,2,1)\n",
        "plt.plot(x1points,y1points)\n",
        "\n",
        "#plot 2\n",
        "x2points = [11,22,33,44,55]\n",
        "y2points = [10,20,30,70,85]\n",
        "plt.subplot(1,2,2)\n",
        "plt.plot(x2points,y2points)\n",
        "\n",
        "plt.show()"
      ],
      "metadata": {
        "id": "OPNJc10e4JGu"
      },
      "execution_count": null,
      "outputs": []
    },
    {
      "cell_type": "code",
      "source": [
        "# subplots 1st\n",
        "\n",
        "x1points = [1,2,3,4,5]\n",
        "y1points = [10,20,30,90,50]\n",
        "\n",
        "#plot 1\n",
        "plt.subplot(2,1,1)\n",
        "plt.plot(x1points,y1points)\n",
        "\n",
        "#plot 2\n",
        "x2points = [11,22,33,44,55]\n",
        "y2points = [10,20,30,70,85]\n",
        "plt.subplot(2,1,2)\n",
        "plt.plot(x2points,y2points)\n",
        "\n",
        "plt.show()"
      ],
      "metadata": {
        "id": "wwq_u-lV6Mec"
      },
      "execution_count": null,
      "outputs": []
    },
    {
      "cell_type": "code",
      "source": [
        "# subplots 1st arg is row , 2nd arg is col , 3rd arg is index of the current plot\n",
        "\n",
        "x1 = [1,2,3,4,5]\n",
        "y1= [1,2,3,4,5]\n",
        "#plot 1\n",
        "plt.subplot(2,1,1)\n",
        "plt.title(\"Graph-1\")\n",
        "plt.plot(x1,y1)\n",
        "\n",
        "#plot 2\n",
        "x2 = [1,2,3,4,5]\n",
        "y2 = [17,27,38,67,89]\n",
        "plt.subplot(2,1,2)\n",
        "plt.title(\"Graph-2\")\n",
        "plt.plot(x2,y2)\n",
        "\n",
        "plt.suptitle(\"Multiple Plots\")\n",
        "\n",
        "plt.show()"
      ],
      "metadata": {
        "id": "F2dsheh57cbv"
      },
      "execution_count": null,
      "outputs": []
    },
    {
      "cell_type": "code",
      "source": [
        "import numpy as np\n",
        "x = np.array([0, 1, 2, 3])\n",
        "y = np.array([3, 8, 1, 10])\n",
        "\n",
        "plt.subplot(3, 2, 1)\n",
        "plt.plot(x,y)\n",
        "\n",
        "x = np.array([0, 1, 2, 3])\n",
        "y = np.array([10, 20, 30, 40])\n",
        "\n",
        "plt.subplot(3, 2, 2)\n",
        "plt.plot(x,y)\n",
        "\n",
        "x = np.array([0, 1, 2, 3])\n",
        "y = np.array([3, 8, 1, 10])\n",
        "\n",
        "plt.subplot(3, 2, 3)\n",
        "plt.plot(x,y)\n",
        "\n",
        "x = np.array([0, 1, 2, 3])\n",
        "y = np.array([10, 20, 30, 40])\n",
        "\n",
        "plt.subplot(3, 2, 4)\n",
        "plt.plot(x,y)\n",
        "\n",
        "x = np.array([0, 1, 2, 3])\n",
        "y = np.array([3, 8, 1, 10])\n",
        "\n",
        "plt.subplot(3, 2, 5)\n",
        "plt.plot(x,y)\n",
        "\n",
        "x = np.array([0, 1, 2, 3])\n",
        "y = np.array([10, 20, 30, 40])\n",
        "\n",
        "plt.subplot(3, 2, 6)\n",
        "plt.plot(x,y)\n",
        "\n",
        "plt.suptitle('Multiple Plots')\n",
        "\n",
        "plt.show()\n"
      ],
      "metadata": {
        "id": "SGkzp8Pi61QZ"
      },
      "execution_count": null,
      "outputs": []
    },
    {
      "cell_type": "code",
      "source": [
        "# scatter plots\n",
        "\n",
        "x1points = [1,2,3,4,5]\n",
        "y1points = [10,20,30,90,50]\n",
        "\n",
        "# Define sizes for the markers\n",
        "sizes = [20, 50, 100, 200, 500]\n",
        "\n",
        "plt.scatter(x1points,y1points, s=sizes,  color='red' )\n",
        "plt.show()\n",
        "\n",
        "#x2points = [1,2,3,4,55]\n",
        "y2points = [15,5,30,70,85]\n",
        "\n",
        "plt.scatter(x1points,y2points)\n",
        "plt.show()\n"
      ],
      "metadata": {
        "id": "4UUWmgzY7nnJ"
      },
      "execution_count": null,
      "outputs": []
    },
    {
      "cell_type": "code",
      "source": [
        "#Bar plot\n",
        "\n",
        "x = ['A','B','C','D']\n",
        "y = [10,20,30,40]\n",
        "plt.bar(x,y, width=.1)\n",
        "plt.show()"
      ],
      "metadata": {
        "id": "Wl_md54B8ecy"
      },
      "execution_count": null,
      "outputs": []
    },
    {
      "cell_type": "code",
      "source": [
        "# Horizontal Bar plot\n",
        "\n",
        "x = ['A','B','C','D']\n",
        "y = [10,20,30,40]\n",
        "plt.barh(x,y,color = 'hotpink', height=.1)\n",
        "plt.show()"
      ],
      "metadata": {
        "id": "NwJcSm4b8t2q"
      },
      "execution_count": null,
      "outputs": []
    },
    {
      "cell_type": "code",
      "source": [
        "# Histogram\n",
        "import numpy as np\n",
        "\n",
        "x = np.random.normal(170,10,250)\n",
        "print(type(x))\n",
        "plt.hist(x)\n",
        "plt.show()"
      ],
      "metadata": {
        "id": "-SMCKlyfuLv7"
      },
      "execution_count": null,
      "outputs": []
    },
    {
      "cell_type": "code",
      "source": [
        "y = [35,25,25,115]\n",
        "lab = ['a','b','c','d']\n",
        "col = ['r','g','b','c']\n",
        "plt.pie(y, labels = lab, startangle=90, colors = col)\n",
        "plt.show()"
      ],
      "metadata": {
        "id": "3f4MeapoxBEw"
      },
      "execution_count": null,
      "outputs": []
    }
  ]
}